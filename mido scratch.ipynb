{
 "cells": [
  {
   "cell_type": "code",
   "execution_count": 21,
   "id": "bd1699a1",
   "metadata": {},
   "outputs": [],
   "source": [
    "import time\n",
    "import mido\n",
    "import random\n",
    "from mido import Message, MidiFile, MidiTrack"
   ]
  },
  {
   "cell_type": "code",
   "execution_count": 10,
   "id": "c5b6579e",
   "metadata": {},
   "outputs": [],
   "source": [
    "msg = mido.Message('note_on', note=60)"
   ]
  },
  {
   "cell_type": "code",
   "execution_count": 11,
   "id": "b4d707e8",
   "metadata": {},
   "outputs": [
    {
     "data": {
      "text/plain": [
       "[144, 60, 64]"
      ]
     },
     "execution_count": 11,
     "metadata": {},
     "output_type": "execute_result"
    }
   ],
   "source": [
    "msg.bytes()"
   ]
  },
  {
   "cell_type": "code",
   "execution_count": 7,
   "id": "88c7e1c8",
   "metadata": {},
   "outputs": [],
   "source": [
    "import mido\n",
    "from mido import Message, MidiFile, MidiTrack"
   ]
  },
  {
   "cell_type": "code",
   "execution_count": 12,
   "id": "ef269164",
   "metadata": {},
   "outputs": [],
   "source": [
    "mido.get_output_names()\n",
    "port = mido.open_output('NTS-1 digital kit SOUND')"
   ]
  },
  {
   "cell_type": "code",
   "execution_count": 39,
   "id": "c22a02ce",
   "metadata": {},
   "outputs": [],
   "source": [
    "port.send(Message('note_on', channel=7, note=40))"
   ]
  },
  {
   "cell_type": "code",
   "execution_count": 38,
   "id": "81dde5e9",
   "metadata": {},
   "outputs": [],
   "source": [
    "port.send(Message('note_off', channel=7, note=40))"
   ]
  },
  {
   "cell_type": "code",
   "execution_count": 17,
   "id": "32fdab8d",
   "metadata": {},
   "outputs": [],
   "source": [
    "cutoff = Message('control_change', channel=7, control=43, value=int(random.uniform(1, 127)))"
   ]
  },
  {
   "cell_type": "code",
   "execution_count": 26,
   "id": "6d1e7247",
   "metadata": {},
   "outputs": [],
   "source": [
    "def do_it():\n",
    "  for i in range(1000):\n",
    "    notes = [20, 78, 91, 43, 48, 84]\n",
    "    msg = Message('note_on', channel=7, note=random.choice(notes))\n",
    "    port.send(msg)\n",
    "\n",
    "    cutoff = Message('control_change', channel=7, control=43, value=int(random.uniform(1, 127)))\n",
    "    port.send(cutoff)  \n",
    "\n",
    "    osc_shape = Message('control_change', channel=7, control=54, value=int(random.uniform(1, 127)))\n",
    "    port.send(osc_shape)\n",
    "       \n",
    "    time.sleep(random.random() * .4)\n",
    "\n",
    "    osc_type = Message('control_change', channel=7, control=53, value=int(random.uniform(1, 127)))\n",
    "    port.send(osc_type)    \n",
    "           \n",
    "    reso = Message('control_change', channel=7, control=44, value=int(random.uniform(1, 127)))\n",
    "    port.send(reso)\n",
    "       \n",
    "    time.sleep(random.random() * .2)\n",
    "  return"
   ]
  },
  {
   "cell_type": "code",
   "execution_count": 27,
   "id": "1968bd03",
   "metadata": {},
   "outputs": [],
   "source": [
    "do_it()"
   ]
  },
  {
   "cell_type": "code",
   "execution_count": 83,
   "id": "08d2b2c3",
   "metadata": {},
   "outputs": [
    {
     "ename": "KeyboardInterrupt",
     "evalue": "",
     "output_type": "error",
     "traceback": [
      "\u001b[0;31m---------------------------------------------------------------------------\u001b[0m",
      "\u001b[0;31mKeyboardInterrupt\u001b[0m                         Traceback (most recent call last)",
      "\u001b[0;32m/var/folders/_j/450_3z4s4rj62h1g7wzs6hsh0000gn/T/ipykernel_52398/572459866.py\u001b[0m in \u001b[0;36m<module>\u001b[0;34m\u001b[0m\n\u001b[1;32m     14\u001b[0m \u001b[0;31m#         reso = Message('control_change', channel=7, control=44, value=int(random.uniform(1, 127)))\u001b[0m\u001b[0;34m\u001b[0m\u001b[0;34m\u001b[0m\u001b[0m\n\u001b[1;32m     15\u001b[0m \u001b[0;31m#         port.send(reso)\u001b[0m\u001b[0;34m\u001b[0m\u001b[0;34m\u001b[0m\u001b[0m\n\u001b[0;32m---> 16\u001b[0;31m         \u001b[0mtime\u001b[0m\u001b[0;34m.\u001b[0m\u001b[0msleep\u001b[0m\u001b[0;34m(\u001b[0m\u001b[0;36m.01\u001b[0m\u001b[0;34m)\u001b[0m\u001b[0;34m\u001b[0m\u001b[0;34m\u001b[0m\u001b[0m\n\u001b[0m\u001b[1;32m     17\u001b[0m     \u001b[0;32mfor\u001b[0m \u001b[0mi\u001b[0m \u001b[0;32min\u001b[0m \u001b[0mrange\u001b[0m\u001b[0;34m(\u001b[0m\u001b[0;36m110\u001b[0m\u001b[0;34m,\u001b[0m\u001b[0;36m10\u001b[0m\u001b[0;34m,\u001b[0m\u001b[0;34m-\u001b[0m\u001b[0;36m1\u001b[0m\u001b[0;34m)\u001b[0m\u001b[0;34m:\u001b[0m\u001b[0;34m\u001b[0m\u001b[0;34m\u001b[0m\u001b[0m\n\u001b[1;32m     18\u001b[0m         \u001b[0mcutoff\u001b[0m \u001b[0;34m=\u001b[0m \u001b[0mMessage\u001b[0m\u001b[0;34m(\u001b[0m\u001b[0;34m'control_change'\u001b[0m\u001b[0;34m,\u001b[0m \u001b[0mchannel\u001b[0m\u001b[0;34m=\u001b[0m\u001b[0;36m7\u001b[0m\u001b[0;34m,\u001b[0m \u001b[0mcontrol\u001b[0m\u001b[0;34m=\u001b[0m\u001b[0;36m43\u001b[0m\u001b[0;34m,\u001b[0m \u001b[0mvalue\u001b[0m\u001b[0;34m=\u001b[0m\u001b[0mi\u001b[0m\u001b[0;34m)\u001b[0m\u001b[0;34m\u001b[0m\u001b[0;34m\u001b[0m\u001b[0m\n",
      "\u001b[0;31mKeyboardInterrupt\u001b[0m: "
     ]
    }
   ],
   "source": [
    "while True:\n",
    "    notes = [20, 78, 91, 43, 48, 84]\n",
    "    msg = Message('note_on', channel=7, note=random.choice(notes))\n",
    "    port.send(msg)\n",
    "    reso = Message('control_change', channel=7, control=44, value=int(random.uniform(80, 110)))\n",
    "    port.send(reso)\n",
    "    osc_type = Message('control_change', channel=7, control=53, value=int(random.uniform(1, 127)))\n",
    "    port.send(osc_type)\n",
    "    osc_shape = Message('control_change', channel=7, control=54, value=int(random.uniform(1, 127)))\n",
    "    port.send(osc_shape)\n",
    "    for i in range(10, 110, 1):\n",
    "        cutoff = Message('control_change', channel=7, control=43, value=i)\n",
    "        port.send(cutoff)\n",
    "#         reso = Message('control_change', channel=7, control=44, value=int(random.uniform(1, 127)))\n",
    "#         port.send(reso)\n",
    "        time.sleep(.01)\n",
    "    for i in range(110,10,-1):\n",
    "        cutoff = Message('control_change', channel=7, control=43, value=i)\n",
    "        port.send(cutoff)\n",
    "#         reso = Message('control_change', channel=7, control=44, value=int(random.uniform(1, 127)))\n",
    "#         port.send(reso)\n",
    "        time.sleep(.005)"
   ]
  },
  {
   "cell_type": "code",
   "execution_count": 91,
   "id": "1f549bed",
   "metadata": {},
   "outputs": [],
   "source": [
    "mid = MidiFile('baby.mid')"
   ]
  },
  {
   "cell_type": "code",
   "execution_count": 92,
   "id": "869ff698",
   "metadata": {},
   "outputs": [
    {
     "data": {
      "text/plain": [
       "1"
      ]
     },
     "execution_count": 92,
     "metadata": {},
     "output_type": "execute_result"
    }
   ],
   "source": [
    "mid.type"
   ]
  },
  {
   "cell_type": "code",
   "execution_count": 93,
   "id": "ad2a359e",
   "metadata": {},
   "outputs": [],
   "source": [
    "for msg in mid.play():\n",
    "    port.send(msg)"
   ]
  },
  {
   "cell_type": "code",
   "execution_count": null,
   "id": "9ab56c09",
   "metadata": {},
   "outputs": [],
   "source": []
  }
 ],
 "metadata": {
  "kernelspec": {
   "display_name": "Python 3 (ipykernel)",
   "language": "python",
   "name": "python3"
  },
  "language_info": {
   "codemirror_mode": {
    "name": "ipython",
    "version": 3
   },
   "file_extension": ".py",
   "mimetype": "text/x-python",
   "name": "python",
   "nbconvert_exporter": "python",
   "pygments_lexer": "ipython3",
   "version": "3.9.7"
  }
 },
 "nbformat": 4,
 "nbformat_minor": 5
}
